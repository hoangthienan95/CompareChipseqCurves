{
 "cells": [
  {
   "cell_type": "code",
   "execution_count": null,
   "metadata": {
    "collapsed": true
   },
   "outputs": [],
   "source": [
    "import pandas as pd\n",
    "import numpy as np\n",
    "\n",
    "from contextlib import contextmanager\n",
    "import matplotlib.pyplot as plt\n",
    "import seaborn as sns\n",
    "@contextmanager\n",
    "def cd(newdir):\n",
    "    prevdir = os.getcwd()\n",
    "    os.chdir(os.path.expanduser(newdir))\n",
    "    try:\n",
    "        yield\n",
    "    finally:\n",
    "        os.chdir(prevdir)\n",
    "\n",
    "from IPython.core.interactiveshell import InteractiveShell\n",
    "InteractiveShell.ast_node_interactivity = \"all\"\n",
    "\n",
    "\n",
    "from ipywidgets import interact, interactive, fixed, interact_manual\n",
    "import ipywidgets as widgets"
   ]
  },
  {
   "cell_type": "code",
   "execution_count": null,
   "metadata": {},
   "outputs": [],
   "source": [
    "ATAC_n43_set = pd.read_csv(\"data/ATAC_n43_set_processed_2018-10-09.csv\", index_col = 0)\n",
    "K4_w_NPC_broad_set = pd.read_csv(\"data/K4_w_NPC_broad_set_processed_2018-10-09.csv\", index_col = 0)\n",
    "ATAC_n43_set.head()\n",
    "K4_w_NPC_broad_set.head()"
   ]
  },
  {
   "cell_type": "code",
   "execution_count": null,
   "metadata": {},
   "outputs": [],
   "source": [
    "class heatmap():\n",
    "    def __init__(self, peak_set_file):\n",
    "        df = pd.read_csv(peak_set_file, index_col = 0)\n",
    "        self.df_ChIP = {ChIP_exp : df.loc[df.ChIP_exp == ChIP_exp] for ChIP_exp in df.ChIP_exp.unique()}\n",
    "        self.heat_map_type = {\"percentile\" : self.make_heat_map_percentile, \"pvalue\": self.make_heat_map_pvalue}\n",
    "        \n",
    "    def make_heat_map_percentile(self, ChIP_exp, metric, threshold, width, length):\n",
    "        df = self.df_ChIP[ChIP_exp].copy()\n",
    "        df.loc[:,\"binary\"] = np.where(df.loc[:, metric] >= threshold, 1, 0)\n",
    "\n",
    "        \n",
    "        result = df.pivot(index = \"rsID\", columns = \"Cell_Type\", values = \"binary\")\n",
    "        fig, ax = plt.subplots(1,1, figsize = (width,length))\n",
    "        ax.tick_params(labelsize= 10)\n",
    "        ax = sns.heatmap(result, annot=False, cmap = \"viridis\", cbar_kws= {\"ticks\": [0,1]}, linewidths=1)\n",
    "        return ax\n",
    "    \n",
    "    def make_heat_map_pvalue(self, ChIP_exp, metric, threshold, width, length):\n",
    "        df = self.df_ChIP[ChIP_exp].copy()\n",
    "        df.loc[:,metric] = np.log(df.loc[:,metric])\n",
    "        df.loc[:,\"binary\"] = np.where(df.loc[:,metric] >= threshold, 1, 0)\n",
    "        \n",
    "        result = df.pivot(index = \"rsID\", columns = \"Cell_Type\", values = \"binary\")\n",
    "        fig, ax = plt.subplots(1,1, figsize = (width,length))\n",
    "        ax.tick_params(labelsize= 10)\n",
    "        ax = sns.heatmap(result, annot=True, fmt = '1.2E', cmap = \"viridis\", linewidths=1)\n",
    "        return ax\n",
    "        \n",
    "    def make_heat_map(self, *, heat_map_type, ChIP_exp, metric, threshold, width, length):\n",
    "        heat_map_func = self.heat_map_type[heat_map_type]\n",
    "        heat_map_func(ChIP_exp, metric, threshold, width, length)\n",
    "        \n",
    "        \n",
    "# def generate_heatmap(PEAK_SET, ChIP_exp, metric, threshold):\n",
    "#     if PEAK_SET == \"K4_w_NPC_broad_set\":\n",
    "#         df = K4_w_NPC_broad_set\n",
    "#     else:\n",
    "#         df = ATAC_n43_set\n",
    "#     df_ChIP = df.loc[df.ChIP_exp == ChIP_exp]\n",
    "#     df_ChIP = df_ChIP.dropna(axis = 0)\n",
    "#     df_ChIP = df_ChIP.dropna(axis = 1)\n",
    "#     df_ChIP.loc[:,\"binary\"] = np.where(df_ChIP.loc[:,metric] >= threshold, 1, 0)\n",
    "#     result = df_ChIP.pivot(index = \"rsID\", columns = \"Cell_Type\", values = \"binary\")\n",
    "#     fig, ax = plt.subplots(1,1, figsize = (10,30))\n",
    "#     ax.tick_params(labelsize= 10)\n",
    "#     ax = sns.heatmap(result, annot=False, cmap = \"viridis\", cbar_kws= {\"ticks\": [0,1]}, linewidths=1)\n",
    "#     return ax\n",
    "\n",
    "\n",
    "# a = ['H3K27ac', 'H3K4me1', 'E041', 'H3K27ac_roadmap_E041',\n",
    "#        'H3K27ac_roadmap_E042', 'E042']\n",
    "\n",
    "# b = [\"K4_w_NPC_broad_set\",\"ATAC_n43_set\"]\n",
    "\n",
    "\n",
    "# metric = ['KS_pvalue_percentile', \"paired_ttest_pvalue_percentile\", \"zero_minus_one_percentile_bootstrap\", 'mann_whitney_pvalue_percentile']\n",
    "\n",
    "# threshold = widgets.IntSlider(min=0,max=100,step=1,value=90)\n",
    "\n",
    "# interact_manual(generate_heatmap, ChIP_exp = a, PEAK_SET = b, threshold = threshold, metric = metric);"
   ]
  },
  {
   "cell_type": "code",
   "execution_count": null,
   "metadata": {
    "scrolled": false
   },
   "outputs": [],
   "source": [
    "a = ['H3K27ac', 'H3K4me1', 'E041', 'H3K27ac_roadmap_E041',\n",
    "       'H3K27ac_roadmap_E042', 'E042']\n",
    "b = [\"K4_w_NPC_broad_set\",\"ATAC_n43_set\"]\n",
    "metric_type = {\"\": \"\", \"percentile\":['KS_pvalue_percentile', \"paired_ttest_pvalue_percentile\", \"zero_minus_one_percentile_bootstrap\", 'mann_whitney_pvalue_percentile'],\\\n",
    "               \"pvalue\": [\"realdata_KS_pvalue\", \"realdata_mann_whitney_pvalue\"]}\n",
    "\n",
    "metric = widgets.Dropdown(options = [])\n",
    "heat_map_type = widgets.Dropdown(options=[\"\",\"percentile\",\"pvalue\"])\n",
    "\n",
    "def change_heat_map_type(change):\n",
    "    metric.options = metric_type[change.new]\n",
    "heat_map_type.observe(change_heat_map_type, \"value\")"
   ]
  },
  {
   "cell_type": "code",
   "execution_count": null,
   "metadata": {},
   "outputs": [],
   "source": [
    "ATAC_n43_set = heatmap(\"data/ATAC_n43_set_processed_2018-10-09.csv\")\n",
    "K4_w_NPC_broad_set = heatmap(\"data/K4_w_NPC_broad_set_processed_2018-10-09.csv\")"
   ]
  },
  {
   "cell_type": "code",
   "execution_count": null,
   "metadata": {},
   "outputs": [],
   "source": [
    "interact_manual(ATAC_n43_set.make_heat_map, heat_map_type = heat_map_type,ChIP_exp = a, metric = metric, threshold=90, width = 10, length = 30)"
   ]
  },
  {
   "cell_type": "code",
   "execution_count": null,
   "metadata": {},
   "outputs": [],
   "source": [
    "interact_manual(K4_w_NPC_broad_set.make_heat_map, heat_map_type = heat_map_type,ChIP_exp = a, metric = metric, threshold=90, width = 10, length = 30)"
   ]
  }
 ],
 "metadata": {
  "kernelspec": {
   "display_name": "summer2018",
   "language": "python",
   "name": "summer2018"
  },
  "language_info": {
   "codemirror_mode": {
    "name": "ipython",
    "version": 3
   },
   "file_extension": ".py",
   "mimetype": "text/x-python",
   "name": "python",
   "nbconvert_exporter": "python",
   "pygments_lexer": "ipython3",
   "version": "3.6.5"
  }
 },
 "nbformat": 4,
 "nbformat_minor": 2
}
